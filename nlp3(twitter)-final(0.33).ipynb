{
 "cells": [
  {
   "cell_type": "code",
   "execution_count": 1,
   "metadata": {},
   "outputs": [],
   "source": [
    "import pandas as pd\n",
    "import numpy as np\n",
    "import matplotlib.pyplot as plt\n",
    "import seaborn as sns\n",
    "\n",
    "%matplotlib inline"
   ]
  },
  {
   "cell_type": "code",
   "execution_count": 16,
   "metadata": {},
   "outputs": [],
   "source": [
    "import nltk\n",
    "import re\n",
    "import warnings \n",
    "warnings.filterwarnings(\"ignore\", category=DeprecationWarning)\n",
    "from nltk import PorterStemmer\n",
    "from nltk.stem import WordNetLemmatizer\n",
    "import string\n"
   ]
  },
  {
   "cell_type": "code",
   "execution_count": 3,
   "metadata": {},
   "outputs": [
    {
     "name": "stderr",
     "output_type": "stream",
     "text": [
      "[nltk_data] Downloading package wordnet to\n",
      "[nltk_data]     C:\\Users\\DELL\\AppData\\Roaming\\nltk_data...\n",
      "[nltk_data]   Unzipping corpora\\wordnet.zip.\n"
     ]
    },
    {
     "data": {
      "text/plain": [
       "True"
      ]
     },
     "execution_count": 3,
     "metadata": {},
     "output_type": "execute_result"
    }
   ],
   "source": [
    "nltk.download('wordnet')"
   ]
  },
  {
   "cell_type": "code",
   "execution_count": 4,
   "metadata": {},
   "outputs": [],
   "source": [
    "df_test = pd.read_csv(\"stanfordtrainingandtestdata/testdata.manual.2009.06.14.csv\", encoding = \"latin-1\", names=[\"polarity\", \"tweet ID\", \"date\",\"query\",\"username\",\"text\"])\n",
    "df_train = pd.read_csv(\"stanfordtrainingandtestdata/training.1600000.processed.noemoticon.csv\", encoding = \"latin-1\", names=[\"polarity\", \"tweet ID\", \"date\",\"query\",\"username\",\"text\"])"
   ]
  },
  {
   "cell_type": "code",
   "execution_count": 5,
   "metadata": {},
   "outputs": [
    {
     "data": {
      "text/html": [
       "<div>\n",
       "<style scoped>\n",
       "    .dataframe tbody tr th:only-of-type {\n",
       "        vertical-align: middle;\n",
       "    }\n",
       "\n",
       "    .dataframe tbody tr th {\n",
       "        vertical-align: top;\n",
       "    }\n",
       "\n",
       "    .dataframe thead th {\n",
       "        text-align: right;\n",
       "    }\n",
       "</style>\n",
       "<table border=\"1\" class=\"dataframe\">\n",
       "  <thead>\n",
       "    <tr style=\"text-align: right;\">\n",
       "      <th></th>\n",
       "      <th>polarity</th>\n",
       "      <th>tweet ID</th>\n",
       "      <th>date</th>\n",
       "      <th>query</th>\n",
       "      <th>username</th>\n",
       "      <th>text</th>\n",
       "    </tr>\n",
       "  </thead>\n",
       "  <tbody>\n",
       "    <tr>\n",
       "      <th>0</th>\n",
       "      <td>0</td>\n",
       "      <td>1467810369</td>\n",
       "      <td>Mon Apr 06 22:19:45 PDT 2009</td>\n",
       "      <td>NO_QUERY</td>\n",
       "      <td>_TheSpecialOne_</td>\n",
       "      <td>@switchfoot http://twitpic.com/2y1zl - Awww, t...</td>\n",
       "    </tr>\n",
       "    <tr>\n",
       "      <th>1</th>\n",
       "      <td>0</td>\n",
       "      <td>1467810672</td>\n",
       "      <td>Mon Apr 06 22:19:49 PDT 2009</td>\n",
       "      <td>NO_QUERY</td>\n",
       "      <td>scotthamilton</td>\n",
       "      <td>is upset that he can't update his Facebook by ...</td>\n",
       "    </tr>\n",
       "    <tr>\n",
       "      <th>2</th>\n",
       "      <td>0</td>\n",
       "      <td>1467810917</td>\n",
       "      <td>Mon Apr 06 22:19:53 PDT 2009</td>\n",
       "      <td>NO_QUERY</td>\n",
       "      <td>mattycus</td>\n",
       "      <td>@Kenichan I dived many times for the ball. Man...</td>\n",
       "    </tr>\n",
       "    <tr>\n",
       "      <th>3</th>\n",
       "      <td>0</td>\n",
       "      <td>1467811184</td>\n",
       "      <td>Mon Apr 06 22:19:57 PDT 2009</td>\n",
       "      <td>NO_QUERY</td>\n",
       "      <td>ElleCTF</td>\n",
       "      <td>my whole body feels itchy and like its on fire</td>\n",
       "    </tr>\n",
       "    <tr>\n",
       "      <th>4</th>\n",
       "      <td>0</td>\n",
       "      <td>1467811193</td>\n",
       "      <td>Mon Apr 06 22:19:57 PDT 2009</td>\n",
       "      <td>NO_QUERY</td>\n",
       "      <td>Karoli</td>\n",
       "      <td>@nationwideclass no, it's not behaving at all....</td>\n",
       "    </tr>\n",
       "    <tr>\n",
       "      <th>5</th>\n",
       "      <td>0</td>\n",
       "      <td>1467811372</td>\n",
       "      <td>Mon Apr 06 22:20:00 PDT 2009</td>\n",
       "      <td>NO_QUERY</td>\n",
       "      <td>joy_wolf</td>\n",
       "      <td>@Kwesidei not the whole crew</td>\n",
       "    </tr>\n",
       "    <tr>\n",
       "      <th>6</th>\n",
       "      <td>0</td>\n",
       "      <td>1467811592</td>\n",
       "      <td>Mon Apr 06 22:20:03 PDT 2009</td>\n",
       "      <td>NO_QUERY</td>\n",
       "      <td>mybirch</td>\n",
       "      <td>Need a hug</td>\n",
       "    </tr>\n",
       "    <tr>\n",
       "      <th>7</th>\n",
       "      <td>0</td>\n",
       "      <td>1467811594</td>\n",
       "      <td>Mon Apr 06 22:20:03 PDT 2009</td>\n",
       "      <td>NO_QUERY</td>\n",
       "      <td>coZZ</td>\n",
       "      <td>@LOLTrish hey  long time no see! Yes.. Rains a...</td>\n",
       "    </tr>\n",
       "    <tr>\n",
       "      <th>8</th>\n",
       "      <td>0</td>\n",
       "      <td>1467811795</td>\n",
       "      <td>Mon Apr 06 22:20:05 PDT 2009</td>\n",
       "      <td>NO_QUERY</td>\n",
       "      <td>2Hood4Hollywood</td>\n",
       "      <td>@Tatiana_K nope they didn't have it</td>\n",
       "    </tr>\n",
       "    <tr>\n",
       "      <th>9</th>\n",
       "      <td>0</td>\n",
       "      <td>1467812025</td>\n",
       "      <td>Mon Apr 06 22:20:09 PDT 2009</td>\n",
       "      <td>NO_QUERY</td>\n",
       "      <td>mimismo</td>\n",
       "      <td>@twittera que me muera ?</td>\n",
       "    </tr>\n",
       "    <tr>\n",
       "      <th>10</th>\n",
       "      <td>0</td>\n",
       "      <td>1467812416</td>\n",
       "      <td>Mon Apr 06 22:20:16 PDT 2009</td>\n",
       "      <td>NO_QUERY</td>\n",
       "      <td>erinx3leannexo</td>\n",
       "      <td>spring break in plain city... it's snowing</td>\n",
       "    </tr>\n",
       "    <tr>\n",
       "      <th>11</th>\n",
       "      <td>0</td>\n",
       "      <td>1467812579</td>\n",
       "      <td>Mon Apr 06 22:20:17 PDT 2009</td>\n",
       "      <td>NO_QUERY</td>\n",
       "      <td>pardonlauren</td>\n",
       "      <td>I just re-pierced my ears</td>\n",
       "    </tr>\n",
       "    <tr>\n",
       "      <th>12</th>\n",
       "      <td>0</td>\n",
       "      <td>1467812723</td>\n",
       "      <td>Mon Apr 06 22:20:19 PDT 2009</td>\n",
       "      <td>NO_QUERY</td>\n",
       "      <td>TLeC</td>\n",
       "      <td>@caregiving I couldn't bear to watch it.  And ...</td>\n",
       "    </tr>\n",
       "    <tr>\n",
       "      <th>13</th>\n",
       "      <td>0</td>\n",
       "      <td>1467812771</td>\n",
       "      <td>Mon Apr 06 22:20:19 PDT 2009</td>\n",
       "      <td>NO_QUERY</td>\n",
       "      <td>robrobbierobert</td>\n",
       "      <td>@octolinz16 It it counts, idk why I did either...</td>\n",
       "    </tr>\n",
       "    <tr>\n",
       "      <th>14</th>\n",
       "      <td>0</td>\n",
       "      <td>1467812784</td>\n",
       "      <td>Mon Apr 06 22:20:20 PDT 2009</td>\n",
       "      <td>NO_QUERY</td>\n",
       "      <td>bayofwolves</td>\n",
       "      <td>@smarrison i would've been the first, but i di...</td>\n",
       "    </tr>\n",
       "  </tbody>\n",
       "</table>\n",
       "</div>"
      ],
      "text/plain": [
       "    polarity    tweet ID                          date     query  \\\n",
       "0          0  1467810369  Mon Apr 06 22:19:45 PDT 2009  NO_QUERY   \n",
       "1          0  1467810672  Mon Apr 06 22:19:49 PDT 2009  NO_QUERY   \n",
       "2          0  1467810917  Mon Apr 06 22:19:53 PDT 2009  NO_QUERY   \n",
       "3          0  1467811184  Mon Apr 06 22:19:57 PDT 2009  NO_QUERY   \n",
       "4          0  1467811193  Mon Apr 06 22:19:57 PDT 2009  NO_QUERY   \n",
       "5          0  1467811372  Mon Apr 06 22:20:00 PDT 2009  NO_QUERY   \n",
       "6          0  1467811592  Mon Apr 06 22:20:03 PDT 2009  NO_QUERY   \n",
       "7          0  1467811594  Mon Apr 06 22:20:03 PDT 2009  NO_QUERY   \n",
       "8          0  1467811795  Mon Apr 06 22:20:05 PDT 2009  NO_QUERY   \n",
       "9          0  1467812025  Mon Apr 06 22:20:09 PDT 2009  NO_QUERY   \n",
       "10         0  1467812416  Mon Apr 06 22:20:16 PDT 2009  NO_QUERY   \n",
       "11         0  1467812579  Mon Apr 06 22:20:17 PDT 2009  NO_QUERY   \n",
       "12         0  1467812723  Mon Apr 06 22:20:19 PDT 2009  NO_QUERY   \n",
       "13         0  1467812771  Mon Apr 06 22:20:19 PDT 2009  NO_QUERY   \n",
       "14         0  1467812784  Mon Apr 06 22:20:20 PDT 2009  NO_QUERY   \n",
       "\n",
       "           username                                               text  \n",
       "0   _TheSpecialOne_  @switchfoot http://twitpic.com/2y1zl - Awww, t...  \n",
       "1     scotthamilton  is upset that he can't update his Facebook by ...  \n",
       "2          mattycus  @Kenichan I dived many times for the ball. Man...  \n",
       "3           ElleCTF    my whole body feels itchy and like its on fire   \n",
       "4            Karoli  @nationwideclass no, it's not behaving at all....  \n",
       "5          joy_wolf                      @Kwesidei not the whole crew   \n",
       "6           mybirch                                        Need a hug   \n",
       "7              coZZ  @LOLTrish hey  long time no see! Yes.. Rains a...  \n",
       "8   2Hood4Hollywood               @Tatiana_K nope they didn't have it   \n",
       "9           mimismo                          @twittera que me muera ?   \n",
       "10   erinx3leannexo        spring break in plain city... it's snowing   \n",
       "11     pardonlauren                         I just re-pierced my ears   \n",
       "12             TLeC  @caregiving I couldn't bear to watch it.  And ...  \n",
       "13  robrobbierobert  @octolinz16 It it counts, idk why I did either...  \n",
       "14      bayofwolves  @smarrison i would've been the first, but i di...  "
      ]
     },
     "execution_count": 5,
     "metadata": {},
     "output_type": "execute_result"
    }
   ],
   "source": [
    "df_train.head(15)"
   ]
  },
  {
   "cell_type": "code",
   "execution_count": 6,
   "metadata": {},
   "outputs": [
    {
     "data": {
      "text/plain": [
       "<matplotlib.axes._subplots.AxesSubplot at 0x2d15a0c2048>"
      ]
     },
     "execution_count": 6,
     "metadata": {},
     "output_type": "execute_result"
    },
    {
     "data": {
      "image/png": "[encoded data removed]",
      "text/plain": [
       "<Figure size 432x288 with 1 Axes>"
      ]
     },
     "metadata": {
      "needs_background": "light"
     },
     "output_type": "display_data"
    }
   ],
   "source": [
    "sns.countplot(df_test['polarity'])"
   ]
  },
  {
   "cell_type": "code",
   "execution_count": 7,
   "metadata": {},
   "outputs": [],
   "source": [
    "df= df_train.append(df_test, ignore_index=True)\n",
    "df=df.sample(frac=0.5)"
   ]
  },
  {
   "cell_type": "code",
   "execution_count": 8,
   "metadata": {},
   "outputs": [
    {
     "data": {
      "text/html": [
       "<div>\n",
       "<style scoped>\n",
       "    .dataframe tbody tr th:only-of-type {\n",
       "        vertical-align: middle;\n",
       "    }\n",
       "\n",
       "    .dataframe tbody tr th {\n",
       "        vertical-align: top;\n",
       "    }\n",
       "\n",
       "    .dataframe thead th {\n",
       "        text-align: right;\n",
       "    }\n",
       "</style>\n",
       "<table border=\"1\" class=\"dataframe\">\n",
       "  <thead>\n",
       "    <tr style=\"text-align: right;\">\n",
       "      <th></th>\n",
       "      <th>polarity</th>\n",
       "      <th>tweet ID</th>\n",
       "      <th>date</th>\n",
       "      <th>query</th>\n",
       "      <th>username</th>\n",
       "      <th>text</th>\n",
       "    </tr>\n",
       "  </thead>\n",
       "  <tbody>\n",
       "    <tr>\n",
       "      <th>653410</th>\n",
       "      <td>0</td>\n",
       "      <td>2238821620</td>\n",
       "      <td>Fri Jun 19 07:47:00 PDT 2009</td>\n",
       "      <td>NO_QUERY</td>\n",
       "      <td>misslindsey2218</td>\n",
       "      <td>Sad about Blake  there goes my summer.</td>\n",
       "    </tr>\n",
       "    <tr>\n",
       "      <th>45931</th>\n",
       "      <td>0</td>\n",
       "      <td>1677280776</td>\n",
       "      <td>Sat May 02 01:17:06 PDT 2009</td>\n",
       "      <td>NO_QUERY</td>\n",
       "      <td>HMN851X</td>\n",
       "      <td>morning all sun shineing here in the south of ...</td>\n",
       "    </tr>\n",
       "    <tr>\n",
       "      <th>779339</th>\n",
       "      <td>0</td>\n",
       "      <td>2322903377</td>\n",
       "      <td>Wed Jun 24 23:30:31 PDT 2009</td>\n",
       "      <td>NO_QUERY</td>\n",
       "      <td>LindzeyNichole</td>\n",
       "      <td>I feel like a creeper watching @DeeYoung08 and...</td>\n",
       "    </tr>\n",
       "    <tr>\n",
       "      <th>466706</th>\n",
       "      <td>0</td>\n",
       "      <td>2175618985</td>\n",
       "      <td>Mon Jun 15 01:30:13 PDT 2009</td>\n",
       "      <td>NO_QUERY</td>\n",
       "      <td>jonnyhodges</td>\n",
       "      <td>is back at work  flip side is only 2day and 2m...</td>\n",
       "    </tr>\n",
       "    <tr>\n",
       "      <th>1274018</th>\n",
       "      <td>4</td>\n",
       "      <td>2000915635</td>\n",
       "      <td>Mon Jun 01 23:18:36 PDT 2009</td>\n",
       "      <td>NO_QUERY</td>\n",
       "      <td>abbyts</td>\n",
       "      <td>@taylorswift13 http://twitpic.com/6g8k2 - too ...</td>\n",
       "    </tr>\n",
       "    <tr>\n",
       "      <th>1288536</th>\n",
       "      <td>4</td>\n",
       "      <td>2002499288</td>\n",
       "      <td>Tue Jun 02 04:23:34 PDT 2009</td>\n",
       "      <td>NO_QUERY</td>\n",
       "      <td>NohaFarouk</td>\n",
       "      <td>im going for a hair do..</td>\n",
       "    </tr>\n",
       "    <tr>\n",
       "      <th>1512866</th>\n",
       "      <td>4</td>\n",
       "      <td>2175285277</td>\n",
       "      <td>Mon Jun 15 00:34:14 PDT 2009</td>\n",
       "      <td>NO_QUERY</td>\n",
       "      <td>Samanfa_unk</td>\n",
       "      <td>going to see baby cousin tongiht  naww jus to ...</td>\n",
       "    </tr>\n",
       "    <tr>\n",
       "      <th>120230</th>\n",
       "      <td>0</td>\n",
       "      <td>1832863797</td>\n",
       "      <td>Sun May 17 21:41:00 PDT 2009</td>\n",
       "      <td>NO_QUERY</td>\n",
       "      <td>jonjonnyp</td>\n",
       "      <td>@StyleUnleashed</td>\n",
       "    </tr>\n",
       "    <tr>\n",
       "      <th>341950</th>\n",
       "      <td>0</td>\n",
       "      <td>2015156863</td>\n",
       "      <td>Wed Jun 03 03:52:28 PDT 2009</td>\n",
       "      <td>NO_QUERY</td>\n",
       "      <td>theredeemed</td>\n",
       "      <td>http://twitpic.com/6iwbr - Careful, I'm armed....</td>\n",
       "    </tr>\n",
       "    <tr>\n",
       "      <th>1483717</th>\n",
       "      <td>4</td>\n",
       "      <td>2067527805</td>\n",
       "      <td>Sun Jun 07 12:30:14 PDT 2009</td>\n",
       "      <td>NO_QUERY</td>\n",
       "      <td>blackwithane</td>\n",
       "      <td>Got my bike back safely! Hope to go out and sh...</td>\n",
       "    </tr>\n",
       "    <tr>\n",
       "      <th>1116691</th>\n",
       "      <td>4</td>\n",
       "      <td>1973281079</td>\n",
       "      <td>Sat May 30 10:50:40 PDT 2009</td>\n",
       "      <td>NO_QUERY</td>\n",
       "      <td>keep_rockin</td>\n",
       "      <td>FEARLESS  -word of the day</td>\n",
       "    </tr>\n",
       "    <tr>\n",
       "      <th>495389</th>\n",
       "      <td>0</td>\n",
       "      <td>2185225996</td>\n",
       "      <td>Mon Jun 15 17:04:08 PDT 2009</td>\n",
       "      <td>NO_QUERY</td>\n",
       "      <td>mamachell</td>\n",
       "      <td>@IAMJUNELOVER yuh bumbo . I know u laughing  l...</td>\n",
       "    </tr>\n",
       "    <tr>\n",
       "      <th>1296607</th>\n",
       "      <td>4</td>\n",
       "      <td>2004189614</td>\n",
       "      <td>Tue Jun 02 07:48:45 PDT 2009</td>\n",
       "      <td>NO_QUERY</td>\n",
       "      <td>KareBareBby</td>\n",
       "      <td>Nine thirty-latest I've slept ALL summer. Mayb...</td>\n",
       "    </tr>\n",
       "    <tr>\n",
       "      <th>92653</th>\n",
       "      <td>0</td>\n",
       "      <td>1760141477</td>\n",
       "      <td>Sun May 10 20:46:04 PDT 2009</td>\n",
       "      <td>NO_QUERY</td>\n",
       "      <td>Paigey215</td>\n",
       "      <td>@mismile I WISHHHH!! too bad i have school!  j...</td>\n",
       "    </tr>\n",
       "    <tr>\n",
       "      <th>1581518</th>\n",
       "      <td>4</td>\n",
       "      <td>2190198365</td>\n",
       "      <td>Tue Jun 16 02:02:48 PDT 2009</td>\n",
       "      <td>NO_QUERY</td>\n",
       "      <td>aussyaa</td>\n",
       "      <td>@carloscastano Just the speakers here at the c...</td>\n",
       "    </tr>\n",
       "  </tbody>\n",
       "</table>\n",
       "</div>"
      ],
      "text/plain": [
       "         polarity    tweet ID                          date     query  \\\n",
       "653410          0  2238821620  Fri Jun 19 07:47:00 PDT 2009  NO_QUERY   \n",
       "45931           0  1677280776  Sat May 02 01:17:06 PDT 2009  NO_QUERY   \n",
       "779339          0  2322903377  Wed Jun 24 23:30:31 PDT 2009  NO_QUERY   \n",
       "466706          0  2175618985  Mon Jun 15 01:30:13 PDT 2009  NO_QUERY   \n",
       "1274018         4  2000915635  Mon Jun 01 23:18:36 PDT 2009  NO_QUERY   \n",
       "1288536         4  2002499288  Tue Jun 02 04:23:34 PDT 2009  NO_QUERY   \n",
       "1512866         4  2175285277  Mon Jun 15 00:34:14 PDT 2009  NO_QUERY   \n",
       "120230          0  1832863797  Sun May 17 21:41:00 PDT 2009  NO_QUERY   \n",
       "341950          0  2015156863  Wed Jun 03 03:52:28 PDT 2009  NO_QUERY   \n",
       "1483717         4  2067527805  Sun Jun 07 12:30:14 PDT 2009  NO_QUERY   \n",
       "1116691         4  1973281079  Sat May 30 10:50:40 PDT 2009  NO_QUERY   \n",
       "495389          0  2185225996  Mon Jun 15 17:04:08 PDT 2009  NO_QUERY   \n",
       "1296607         4  2004189614  Tue Jun 02 07:48:45 PDT 2009  NO_QUERY   \n",
       "92653           0  1760141477  Sun May 10 20:46:04 PDT 2009  NO_QUERY   \n",
       "1581518         4  2190198365  Tue Jun 16 02:02:48 PDT 2009  NO_QUERY   \n",
       "\n",
       "                username                                               text  \n",
       "653410   misslindsey2218             Sad about Blake  there goes my summer.  \n",
       "45931            HMN851X  morning all sun shineing here in the south of ...  \n",
       "779339    LindzeyNichole  I feel like a creeper watching @DeeYoung08 and...  \n",
       "466706       jonnyhodges  is back at work  flip side is only 2day and 2m...  \n",
       "1274018           abbyts  @taylorswift13 http://twitpic.com/6g8k2 - too ...  \n",
       "1288536       NohaFarouk                          im going for a hair do..   \n",
       "1512866      Samanfa_unk  going to see baby cousin tongiht  naww jus to ...  \n",
       "120230         jonjonnyp                                   @StyleUnleashed   \n",
       "341950       theredeemed  http://twitpic.com/6iwbr - Careful, I'm armed....  \n",
       "1483717     blackwithane  Got my bike back safely! Hope to go out and sh...  \n",
       "1116691      keep_rockin                        FEARLESS  -word of the day   \n",
       "495389         mamachell  @IAMJUNELOVER yuh bumbo . I know u laughing  l...  \n",
       "1296607      KareBareBby  Nine thirty-latest I've slept ALL summer. Mayb...  \n",
       "92653          Paigey215  @mismile I WISHHHH!! too bad i have school!  j...  \n",
       "1581518          aussyaa  @carloscastano Just the speakers here at the c...  "
      ]
     },
     "execution_count": 8,
     "metadata": {},
     "output_type": "execute_result"
    }
   ],
   "source": [
    "df.head(15)"
   ]
  },
  {
   "cell_type": "code",
   "execution_count": 9,
   "metadata": {},
   "outputs": [
    {
     "name": "stdout",
     "output_type": "stream",
     "text": [
      "<class 'pandas.core.frame.DataFrame'>\n",
      "Int64Index: 800249 entries, 653410 to 387278\n",
      "Data columns (total 6 columns):\n",
      " #   Column    Non-Null Count   Dtype \n",
      "---  ------    --------------   ----- \n",
      " 0   polarity  800249 non-null  int64 \n",
      " 1   tweet ID  800249 non-null  int64 \n",
      " 2   date      800249 non-null  object\n",
      " 3   query     800249 non-null  object\n",
      " 4   username  800249 non-null  object\n",
      " 5   text      800249 non-null  object\n",
      "dtypes: int64(2), object(4)\n",
      "memory usage: 42.7+ MB\n"
     ]
    }
   ],
   "source": [
    "df.info()"
   ]
  },
  {
   "cell_type": "code",
   "execution_count": 10,
   "metadata": {},
   "outputs": [
    {
     "name": "stdout",
     "output_type": "stream",
     "text": [
      "<class 'pandas.core.frame.DataFrame'>\n",
      "Int64Index: 800177 entries, 653410 to 387278\n",
      "Data columns (total 6 columns):\n",
      " #   Column    Non-Null Count   Dtype \n",
      "---  ------    --------------   ----- \n",
      " 0   polarity  800177 non-null  int64 \n",
      " 1   tweet ID  800177 non-null  int64 \n",
      " 2   date      800177 non-null  object\n",
      " 3   query     800177 non-null  object\n",
      " 4   username  800177 non-null  object\n",
      " 5   text      800177 non-null  object\n",
      "dtypes: int64(2), object(4)\n",
      "memory usage: 42.7+ MB\n"
     ]
    },
    {
     "data": {
      "text/plain": [
       "<matplotlib.axes._subplots.AxesSubplot at 0x2d13c4404c8>"
      ]
     },
     "execution_count": 10,
     "metadata": {},
     "output_type": "execute_result"
    },
    {
     "data": {
      "image/png": "[encoded data removed]",
      "text/plain": [
       "<Figure size 432x288 with 1 Axes>"
      ]
     },
     "metadata": {
      "needs_background": "light"
     },
     "output_type": "display_data"
    }
   ],
   "source": [
    "df=df[df['polarity']!=2]\n",
    "df.info()\n",
    "sns.countplot(df['polarity'])"
   ]
  },
  {
   "cell_type": "code",
   "execution_count": 11,
   "metadata": {},
   "outputs": [
    {
     "data": {
      "text/html": [
       "<div>\n",
       "<style scoped>\n",
       "    .dataframe tbody tr th:only-of-type {\n",
       "        vertical-align: middle;\n",
       "    }\n",
       "\n",
       "    .dataframe tbody tr th {\n",
       "        vertical-align: top;\n",
       "    }\n",
       "\n",
       "    .dataframe thead th {\n",
       "        text-align: right;\n",
       "    }\n",
       "</style>\n",
       "<table border=\"1\" class=\"dataframe\">\n",
       "  <thead>\n",
       "    <tr style=\"text-align: right;\">\n",
       "      <th></th>\n",
       "      <th>polarity</th>\n",
       "      <th>text</th>\n",
       "    </tr>\n",
       "  </thead>\n",
       "  <tbody>\n",
       "    <tr>\n",
       "      <th>653410</th>\n",
       "      <td>0</td>\n",
       "      <td>Sad about Blake  there goes my summer.</td>\n",
       "    </tr>\n",
       "    <tr>\n",
       "      <th>45931</th>\n",
       "      <td>0</td>\n",
       "      <td>morning all sun shineing here in the south of ...</td>\n",
       "    </tr>\n",
       "    <tr>\n",
       "      <th>779339</th>\n",
       "      <td>0</td>\n",
       "      <td>I feel like a creeper watching @DeeYoung08 and...</td>\n",
       "    </tr>\n",
       "    <tr>\n",
       "      <th>466706</th>\n",
       "      <td>0</td>\n",
       "      <td>is back at work  flip side is only 2day and 2m...</td>\n",
       "    </tr>\n",
       "    <tr>\n",
       "      <th>1274018</th>\n",
       "      <td>4</td>\n",
       "      <td>@taylorswift13 http://twitpic.com/6g8k2 - too ...</td>\n",
       "    </tr>\n",
       "  </tbody>\n",
       "</table>\n",
       "</div>"
      ],
      "text/plain": [
       "         polarity                                               text\n",
       "653410          0             Sad about Blake  there goes my summer.\n",
       "45931           0  morning all sun shineing here in the south of ...\n",
       "779339          0  I feel like a creeper watching @DeeYoung08 and...\n",
       "466706          0  is back at work  flip side is only 2day and 2m...\n",
       "1274018         4  @taylorswift13 http://twitpic.com/6g8k2 - too ..."
      ]
     },
     "execution_count": 11,
     "metadata": {},
     "output_type": "execute_result"
    }
   ],
   "source": [
    "df =df[['polarity','text']]\n",
    "df.head()"
   ]
  },
  {
   "cell_type": "code",
   "execution_count": 12,
   "metadata": {},
   "outputs": [],
   "source": [
    "from nltk.corpus import stopwords"
   ]
  },
  {
   "cell_type": "code",
   "execution_count": 13,
   "metadata": {},
   "outputs": [],
   "source": [
    "def text_pr(text):\n",
    "    text = re.sub(r\"http\\S+|www\\S+|https\\S+\", '', text, flags=re.MULTILINE)\n",
    "    text = re.sub(r'\\@\\w+|\\#','', text)\n",
    "    nopunc = [c for c in text if c not in string.punctuation]\n",
    "    text= \"\".join(nopunc)\n",
    "    \n",
    "    return [word.lower() for word in text.split() if word.lower() not in stopwords.words('english') and len(word)>3]\n"
   ]
  },
  {
   "cell_type": "code",
   "execution_count": 14,
   "metadata": {},
   "outputs": [],
   "source": [
    "df['cleaned_text']=df['text'].apply(text_pr)"
   ]
  },
  {
   "cell_type": "code",
   "execution_count": 15,
   "metadata": {
    "scrolled": true
   },
   "outputs": [
    {
     "data": {
      "text/html": [
       "<div>\n",
       "<style scoped>\n",
       "    .dataframe tbody tr th:only-of-type {\n",
       "        vertical-align: middle;\n",
       "    }\n",
       "\n",
       "    .dataframe tbody tr th {\n",
       "        vertical-align: top;\n",
       "    }\n",
       "\n",
       "    .dataframe thead th {\n",
       "        text-align: right;\n",
       "    }\n",
       "</style>\n",
       "<table border=\"1\" class=\"dataframe\">\n",
       "  <thead>\n",
       "    <tr style=\"text-align: right;\">\n",
       "      <th></th>\n",
       "      <th>polarity</th>\n",
       "      <th>text</th>\n",
       "      <th>cleaned_text</th>\n",
       "    </tr>\n",
       "  </thead>\n",
       "  <tbody>\n",
       "    <tr>\n",
       "      <th>653410</th>\n",
       "      <td>0</td>\n",
       "      <td>Sad about Blake  there goes my summer.</td>\n",
       "      <td>[blake, goes, summer]</td>\n",
       "    </tr>\n",
       "    <tr>\n",
       "      <th>45931</th>\n",
       "      <td>0</td>\n",
       "      <td>morning all sun shineing here in the south of ...</td>\n",
       "      <td>[morning, shineing, south, island, pity, like,...</td>\n",
       "    </tr>\n",
       "    <tr>\n",
       "      <th>779339</th>\n",
       "      <td>0</td>\n",
       "      <td>I feel like a creeper watching @DeeYoung08 and...</td>\n",
       "      <td>[feel, like, creeper, watching, talk, wish, talk]</td>\n",
       "    </tr>\n",
       "    <tr>\n",
       "      <th>466706</th>\n",
       "      <td>0</td>\n",
       "      <td>is back at work  flip side is only 2day and 2m...</td>\n",
       "      <td>[back, work, flip, side, 2day, 2moro, work]</td>\n",
       "    </tr>\n",
       "    <tr>\n",
       "      <th>1274018</th>\n",
       "      <td>4</td>\n",
       "      <td>@taylorswift13 http://twitpic.com/6g8k2 - too ...</td>\n",
       "      <td>[cute]</td>\n",
       "    </tr>\n",
       "    <tr>\n",
       "      <th>1288536</th>\n",
       "      <td>4</td>\n",
       "      <td>im going for a hair do..</td>\n",
       "      <td>[going, hair]</td>\n",
       "    </tr>\n",
       "    <tr>\n",
       "      <th>1512866</th>\n",
       "      <td>4</td>\n",
       "      <td>going to see baby cousin tongiht  naww jus to ...</td>\n",
       "      <td>[going, baby, cousin, tongiht, naww, neat, wee...</td>\n",
       "    </tr>\n",
       "    <tr>\n",
       "      <th>120230</th>\n",
       "      <td>0</td>\n",
       "      <td>@StyleUnleashed</td>\n",
       "      <td>[]</td>\n",
       "    </tr>\n",
       "    <tr>\n",
       "      <th>341950</th>\n",
       "      <td>0</td>\n",
       "      <td>http://twitpic.com/6iwbr - Careful, I'm armed....</td>\n",
       "      <td>[careful, armed, supposed, mature, adult]</td>\n",
       "    </tr>\n",
       "    <tr>\n",
       "      <th>1483717</th>\n",
       "      <td>4</td>\n",
       "      <td>Got my bike back safely! Hope to go out and sh...</td>\n",
       "      <td>[bike, back, safely, hope, shoot, today, curre...</td>\n",
       "    </tr>\n",
       "    <tr>\n",
       "      <th>1116691</th>\n",
       "      <td>4</td>\n",
       "      <td>FEARLESS  -word of the day</td>\n",
       "      <td>[fearless, word]</td>\n",
       "    </tr>\n",
       "    <tr>\n",
       "      <th>495389</th>\n",
       "      <td>0</td>\n",
       "      <td>@IAMJUNELOVER yuh bumbo . I know u laughing  l...</td>\n",
       "      <td>[bumbo, know, laughing]</td>\n",
       "    </tr>\n",
       "    <tr>\n",
       "      <th>1296607</th>\n",
       "      <td>4</td>\n",
       "      <td>Nine thirty-latest I've slept ALL summer. Mayb...</td>\n",
       "      <td>[nine, thirtylatest, slept, summer, maybe, chr...</td>\n",
       "    </tr>\n",
       "    <tr>\n",
       "      <th>92653</th>\n",
       "      <td>0</td>\n",
       "      <td>@mismile I WISHHHH!! too bad i have school!  j...</td>\n",
       "      <td>[wishhhh, school, junior, year, suckssss, grea...</td>\n",
       "    </tr>\n",
       "    <tr>\n",
       "      <th>1581518</th>\n",
       "      <td>4</td>\n",
       "      <td>@carloscastano Just the speakers here at the c...</td>\n",
       "      <td>[speakers, cafe, album, waiting, confirmation,...</td>\n",
       "    </tr>\n",
       "  </tbody>\n",
       "</table>\n",
       "</div>"
      ],
      "text/plain": [
       "         polarity                                               text  \\\n",
       "653410          0             Sad about Blake  there goes my summer.   \n",
       "45931           0  morning all sun shineing here in the south of ...   \n",
       "779339          0  I feel like a creeper watching @DeeYoung08 and...   \n",
       "466706          0  is back at work  flip side is only 2day and 2m...   \n",
       "1274018         4  @taylorswift13 http://twitpic.com/6g8k2 - too ...   \n",
       "1288536         4                          im going for a hair do..    \n",
       "1512866         4  going to see baby cousin tongiht  naww jus to ...   \n",
       "120230          0                                   @StyleUnleashed    \n",
       "341950          0  http://twitpic.com/6iwbr - Careful, I'm armed....   \n",
       "1483717         4  Got my bike back safely! Hope to go out and sh...   \n",
       "1116691         4                        FEARLESS  -word of the day    \n",
       "495389          0  @IAMJUNELOVER yuh bumbo . I know u laughing  l...   \n",
       "1296607         4  Nine thirty-latest I've slept ALL summer. Mayb...   \n",
       "92653           0  @mismile I WISHHHH!! too bad i have school!  j...   \n",
       "1581518         4  @carloscastano Just the speakers here at the c...   \n",
       "\n",
       "                                              cleaned_text  \n",
       "653410                               [blake, goes, summer]  \n",
       "45931    [morning, shineing, south, island, pity, like,...  \n",
       "779339   [feel, like, creeper, watching, talk, wish, talk]  \n",
       "466706         [back, work, flip, side, 2day, 2moro, work]  \n",
       "1274018                                             [cute]  \n",
       "1288536                                      [going, hair]  \n",
       "1512866  [going, baby, cousin, tongiht, naww, neat, wee...  \n",
       "120230                                                  []  \n",
       "341950           [careful, armed, supposed, mature, adult]  \n",
       "1483717  [bike, back, safely, hope, shoot, today, curre...  \n",
       "1116691                                   [fearless, word]  \n",
       "495389                             [bumbo, know, laughing]  \n",
       "1296607  [nine, thirtylatest, slept, summer, maybe, chr...  \n",
       "92653    [wishhhh, school, junior, year, suckssss, grea...  \n",
       "1581518  [speakers, cafe, album, waiting, confirmation,...  "
      ]
     },
     "execution_count": 15,
     "metadata": {},
     "output_type": "execute_result"
    }
   ],
   "source": [
    "df.head(15)"
   ]
  },
  {
   "cell_type": "code",
   "execution_count": 20,
   "metadata": {},
   "outputs": [],
   "source": [
    "df1=df.copy()"
   ]
  },
  {
   "cell_type": "code",
   "execution_count": 183,
   "metadata": {},
   "outputs": [],
   "source": [
    "#ps=PorterStemmer()\n",
    "#df['cleaned_text'] = df['cleaned_text'].apply(lambda x: [ps.stem(i) for i in x])"
   ]
  },
  {
   "cell_type": "code",
   "execution_count": 18,
   "metadata": {},
   "outputs": [],
   "source": [
    "lemmatizer = WordNetLemmatizer()\n",
    "def lemmatize(text):\n",
    "    text = [word.lower() for word in text]\n",
    "    return [lemmatizer.lemmatize(word, pos='a') for word in text]"
   ]
  },
  {
   "cell_type": "code",
   "execution_count": 19,
   "metadata": {},
   "outputs": [],
   "source": [
    "df['lemma_text'] = df['cleaned_text'].apply(lemmatize)"
   ]
  },
  {
   "cell_type": "code",
   "execution_count": 20,
   "metadata": {},
   "outputs": [
    {
     "data": {
      "text/html": [
       "<div>\n",
       "<style scoped>\n",
       "    .dataframe tbody tr th:only-of-type {\n",
       "        vertical-align: middle;\n",
       "    }\n",
       "\n",
       "    .dataframe tbody tr th {\n",
       "        vertical-align: top;\n",
       "    }\n",
       "\n",
       "    .dataframe thead th {\n",
       "        text-align: right;\n",
       "    }\n",
       "</style>\n",
       "<table border=\"1\" class=\"dataframe\">\n",
       "  <thead>\n",
       "    <tr style=\"text-align: right;\">\n",
       "      <th></th>\n",
       "      <th>polarity</th>\n",
       "      <th>text</th>\n",
       "      <th>cleaned_text</th>\n",
       "      <th>lemma_text</th>\n",
       "    </tr>\n",
       "  </thead>\n",
       "  <tbody>\n",
       "    <tr>\n",
       "      <th>653410</th>\n",
       "      <td>0</td>\n",
       "      <td>Sad about Blake  there goes my summer.</td>\n",
       "      <td>[blake, goes, summer]</td>\n",
       "      <td>[blake, goes, summer]</td>\n",
       "    </tr>\n",
       "    <tr>\n",
       "      <th>45931</th>\n",
       "      <td>0</td>\n",
       "      <td>morning all sun shineing here in the south of ...</td>\n",
       "      <td>[morning, shineing, south, island, pity, like,...</td>\n",
       "      <td>[morning, shineing, south, island, pity, like,...</td>\n",
       "    </tr>\n",
       "    <tr>\n",
       "      <th>779339</th>\n",
       "      <td>0</td>\n",
       "      <td>I feel like a creeper watching @DeeYoung08 and...</td>\n",
       "      <td>[feel, like, creeper, watching, talk, wish, talk]</td>\n",
       "      <td>[feel, like, creeper, watching, talk, wish, talk]</td>\n",
       "    </tr>\n",
       "    <tr>\n",
       "      <th>466706</th>\n",
       "      <td>0</td>\n",
       "      <td>is back at work  flip side is only 2day and 2m...</td>\n",
       "      <td>[back, work, flip, side, 2day, 2moro, work]</td>\n",
       "      <td>[back, work, flip, side, 2day, 2moro, work]</td>\n",
       "    </tr>\n",
       "    <tr>\n",
       "      <th>1274018</th>\n",
       "      <td>4</td>\n",
       "      <td>@taylorswift13 http://twitpic.com/6g8k2 - too ...</td>\n",
       "      <td>[cute]</td>\n",
       "      <td>[cute]</td>\n",
       "    </tr>\n",
       "  </tbody>\n",
       "</table>\n",
       "</div>"
      ],
      "text/plain": [
       "         polarity                                               text  \\\n",
       "653410          0             Sad about Blake  there goes my summer.   \n",
       "45931           0  morning all sun shineing here in the south of ...   \n",
       "779339          0  I feel like a creeper watching @DeeYoung08 and...   \n",
       "466706          0  is back at work  flip side is only 2day and 2m...   \n",
       "1274018         4  @taylorswift13 http://twitpic.com/6g8k2 - too ...   \n",
       "\n",
       "                                              cleaned_text  \\\n",
       "653410                               [blake, goes, summer]   \n",
       "45931    [morning, shineing, south, island, pity, like,...   \n",
       "779339   [feel, like, creeper, watching, talk, wish, talk]   \n",
       "466706         [back, work, flip, side, 2day, 2moro, work]   \n",
       "1274018                                             [cute]   \n",
       "\n",
       "                                                lemma_text  \n",
       "653410                               [blake, goes, summer]  \n",
       "45931    [morning, shineing, south, island, pity, like,...  \n",
       "779339   [feel, like, creeper, watching, talk, wish, talk]  \n",
       "466706         [back, work, flip, side, 2day, 2moro, work]  \n",
       "1274018                                             [cute]  "
      ]
     },
     "execution_count": 20,
     "metadata": {},
     "output_type": "execute_result"
    }
   ],
   "source": [
    "df.head()"
   ]
  },
  {
   "cell_type": "code",
   "execution_count": 21,
   "metadata": {},
   "outputs": [],
   "source": [
    "df['cleaned_text']=df['cleaned_text'].apply(\" \".join)"
   ]
  },
  {
   "cell_type": "code",
   "execution_count": 22,
   "metadata": {},
   "outputs": [
    {
     "data": {
      "text/html": [
       "<div>\n",
       "<style scoped>\n",
       "    .dataframe tbody tr th:only-of-type {\n",
       "        vertical-align: middle;\n",
       "    }\n",
       "\n",
       "    .dataframe tbody tr th {\n",
       "        vertical-align: top;\n",
       "    }\n",
       "\n",
       "    .dataframe thead th {\n",
       "        text-align: right;\n",
       "    }\n",
       "</style>\n",
       "<table border=\"1\" class=\"dataframe\">\n",
       "  <thead>\n",
       "    <tr style=\"text-align: right;\">\n",
       "      <th></th>\n",
       "      <th>polarity</th>\n",
       "      <th>text</th>\n",
       "      <th>cleaned_text</th>\n",
       "      <th>lemma_text</th>\n",
       "    </tr>\n",
       "  </thead>\n",
       "  <tbody>\n",
       "    <tr>\n",
       "      <th>653410</th>\n",
       "      <td>0</td>\n",
       "      <td>Sad about Blake  there goes my summer.</td>\n",
       "      <td>blake goes summer</td>\n",
       "      <td>[blake, goes, summer]</td>\n",
       "    </tr>\n",
       "    <tr>\n",
       "      <th>45931</th>\n",
       "      <td>0</td>\n",
       "      <td>morning all sun shineing here in the south of ...</td>\n",
       "      <td>morning shineing south island pity like buildi...</td>\n",
       "      <td>[morning, shineing, south, island, pity, like,...</td>\n",
       "    </tr>\n",
       "    <tr>\n",
       "      <th>779339</th>\n",
       "      <td>0</td>\n",
       "      <td>I feel like a creeper watching @DeeYoung08 and...</td>\n",
       "      <td>feel like creeper watching talk wish talk</td>\n",
       "      <td>[feel, like, creeper, watching, talk, wish, talk]</td>\n",
       "    </tr>\n",
       "    <tr>\n",
       "      <th>466706</th>\n",
       "      <td>0</td>\n",
       "      <td>is back at work  flip side is only 2day and 2m...</td>\n",
       "      <td>back work flip side 2day 2moro work</td>\n",
       "      <td>[back, work, flip, side, 2day, 2moro, work]</td>\n",
       "    </tr>\n",
       "    <tr>\n",
       "      <th>1274018</th>\n",
       "      <td>4</td>\n",
       "      <td>@taylorswift13 http://twitpic.com/6g8k2 - too ...</td>\n",
       "      <td>cute</td>\n",
       "      <td>[cute]</td>\n",
       "    </tr>\n",
       "  </tbody>\n",
       "</table>\n",
       "</div>"
      ],
      "text/plain": [
       "         polarity                                               text  \\\n",
       "653410          0             Sad about Blake  there goes my summer.   \n",
       "45931           0  morning all sun shineing here in the south of ...   \n",
       "779339          0  I feel like a creeper watching @DeeYoung08 and...   \n",
       "466706          0  is back at work  flip side is only 2day and 2m...   \n",
       "1274018         4  @taylorswift13 http://twitpic.com/6g8k2 - too ...   \n",
       "\n",
       "                                              cleaned_text  \\\n",
       "653410                                   blake goes summer   \n",
       "45931    morning shineing south island pity like buildi...   \n",
       "779339           feel like creeper watching talk wish talk   \n",
       "466706                 back work flip side 2day 2moro work   \n",
       "1274018                                               cute   \n",
       "\n",
       "                                                lemma_text  \n",
       "653410                               [blake, goes, summer]  \n",
       "45931    [morning, shineing, south, island, pity, like,...  \n",
       "779339   [feel, like, creeper, watching, talk, wish, talk]  \n",
       "466706         [back, work, flip, side, 2day, 2moro, work]  \n",
       "1274018                                             [cute]  "
      ]
     },
     "execution_count": 22,
     "metadata": {},
     "output_type": "execute_result"
    }
   ],
   "source": [
    "df.head()"
   ]
  },
  {
   "cell_type": "code",
   "execution_count": 23,
   "metadata": {},
   "outputs": [],
   "source": [
    "from sklearn.model_selection import train_test_split"
   ]
  },
  {
   "cell_type": "code",
   "execution_count": 25,
   "metadata": {},
   "outputs": [],
   "source": [
    "X_train, X_test, y_train, y_test = train_test_split(df['cleaned_text'],df['polarity'], test_size=0.33, random_state=42)"
   ]
  },
  {
   "cell_type": "code",
   "execution_count": 26,
   "metadata": {},
   "outputs": [
    {
     "data": {
      "text/plain": [
       "1488323                                         doritos lmao\n",
       "1112889    coffee waiting parents figure going first migh...\n",
       "946937       great minds think like haha looking photos cute\n",
       "434154         quoteric ticketquot athens theres option site\n",
       "305892                                       twitter friends\n",
       "Name: cleaned_text, dtype: object"
      ]
     },
     "execution_count": 26,
     "metadata": {},
     "output_type": "execute_result"
    }
   ],
   "source": [
    "X_train.head()"
   ]
  },
  {
   "cell_type": "code",
   "execution_count": 27,
   "metadata": {},
   "outputs": [],
   "source": [
    "from sklearn.feature_extraction.text import CountVectorizer"
   ]
  },
  {
   "cell_type": "code",
   "execution_count": 28,
   "metadata": {},
   "outputs": [
    {
     "data": {
      "text/plain": [
       "CountVectorizer(analyzer='word', binary=False, decode_error='strict',\n",
       "                dtype=<class 'numpy.int64'>, encoding='utf-8', input='content',\n",
       "                lowercase=True, max_df=1.0, max_features=None, min_df=1,\n",
       "                ngram_range=(1, 1), preprocessor=None, stop_words=None,\n",
       "                strip_accents=None, token_pattern='(?u)\\\\b\\\\w\\\\w+\\\\b',\n",
       "                tokenizer=None, vocabulary=None)"
      ]
     },
     "execution_count": 28,
     "metadata": {},
     "output_type": "execute_result"
    }
   ],
   "source": [
    "bow_transformer = CountVectorizer()\n",
    "bow_transformer.fit(X_train)"
   ]
  },
  {
   "cell_type": "code",
   "execution_count": 29,
   "metadata": {},
   "outputs": [
    {
     "name": "stdout",
     "output_type": "stream",
     "text": [
      "200249\n"
     ]
    }
   ],
   "source": [
    "print(len(bow_transformer.vocabulary_))"
   ]
  },
  {
   "cell_type": "code",
   "execution_count": 30,
   "metadata": {},
   "outputs": [],
   "source": [
    "X_train_bow = bow_transformer.transform(X_train)\n",
    "X_test_bow = bow_transformer.transform(X_test)"
   ]
  },
  {
   "cell_type": "code",
   "execution_count": 31,
   "metadata": {},
   "outputs": [
    {
     "data": {
      "text/plain": [
       "<536118x200249 sparse matrix of type '<class 'numpy.int64'>'\n",
       "\twith 3042447 stored elements in Compressed Sparse Row format>"
      ]
     },
     "execution_count": 31,
     "metadata": {},
     "output_type": "execute_result"
    }
   ],
   "source": [
    "X_train_bow"
   ]
  },
  {
   "cell_type": "code",
   "execution_count": 35,
   "metadata": {},
   "outputs": [],
   "source": [
    "from sklearn.feature_extraction.text import TfidfTransformer"
   ]
  },
  {
   "cell_type": "code",
   "execution_count": 36,
   "metadata": {},
   "outputs": [
    {
     "data": {
      "text/plain": [
       "TfidfTransformer(norm='l2', smooth_idf=True, sublinear_tf=False, use_idf=True)"
      ]
     },
     "execution_count": 36,
     "metadata": {},
     "output_type": "execute_result"
    }
   ],
   "source": [
    "tfidf_tr=TfidfTransformer()\n",
    "tfidf_tr.fit(X_train_bow)"
   ]
  },
  {
   "cell_type": "code",
   "execution_count": 37,
   "metadata": {},
   "outputs": [],
   "source": [
    "X_train_tfidf=tfidf_tr.transform(X_train_bow)\n",
    "X_test_tfidf= tfidf_tr.transform(X_test_bow)"
   ]
  },
  {
   "cell_type": "code",
   "execution_count": 51,
   "metadata": {},
   "outputs": [],
   "source": [
    "from sklearn.naive_bayes import MultinomialNB\n",
    "from sklearn.linear_model import LogisticRegression\n",
    "from sklearn.ensemble import RandomForestClassifier\n",
    "from sklearn.svm import SVC"
   ]
  },
  {
   "cell_type": "code",
   "execution_count": 39,
   "metadata": {},
   "outputs": [
    {
     "data": {
      "text/plain": [
       "MultinomialNB(alpha=1.0, class_prior=None, fit_prior=True)"
      ]
     },
     "execution_count": 39,
     "metadata": {},
     "output_type": "execute_result"
    }
   ],
   "source": [
    "nb_model = MultinomialNB()\n",
    "nb_model.fit(X_train_tfidf, y_train)"
   ]
  },
  {
   "cell_type": "code",
   "execution_count": 41,
   "metadata": {},
   "outputs": [],
   "source": [
    "pred1=nb_model.predict(X_train_tfidf)"
   ]
  },
  {
   "cell_type": "code",
   "execution_count": 43,
   "metadata": {},
   "outputs": [],
   "source": [
    "nb_predictions = nb_model.predict(X_test_tfidf)"
   ]
  },
  {
   "cell_type": "code",
   "execution_count": 44,
   "metadata": {},
   "outputs": [],
   "source": [
    "from sklearn.metrics import classification_report"
   ]
  },
  {
   "cell_type": "code",
   "execution_count": 45,
   "metadata": {},
   "outputs": [
    {
     "name": "stdout",
     "output_type": "stream",
     "text": [
      "              precision    recall  f1-score   support\n",
      "\n",
      "           0       0.83      0.80      0.81    281078\n",
      "           4       0.79      0.82      0.80    255040\n",
      "\n",
      "    accuracy                           0.81    536118\n",
      "   macro avg       0.81      0.81      0.81    536118\n",
      "weighted avg       0.81      0.81      0.81    536118\n",
      "\n"
     ]
    }
   ],
   "source": [
    "print(classification_report(pred1,y_train))"
   ]
  },
  {
   "cell_type": "code",
   "execution_count": 47,
   "metadata": {},
   "outputs": [
    {
     "name": "stdout",
     "output_type": "stream",
     "text": [
      "              precision    recall  f1-score   support\n",
      "\n",
      "           0       0.78      0.73      0.75    140180\n",
      "           4       0.71      0.76      0.74    123879\n",
      "\n",
      "    accuracy                           0.75    264059\n",
      "   macro avg       0.75      0.75      0.75    264059\n",
      "weighted avg       0.75      0.75      0.75    264059\n",
      "\n"
     ]
    }
   ],
   "source": [
    "print(classification_report(nb_predictions,y_test))"
   ]
  },
  {
   "cell_type": "code",
   "execution_count": 49,
   "metadata": {},
   "outputs": [
    {
     "name": "stdout",
     "output_type": "stream",
     "text": [
      "AUC:  0.7454416059235992\n"
     ]
    }
   ],
   "source": [
    "from sklearn.metrics import roc_auc_score\n",
    "print('AUC: ',roc_auc_score(y_test,nb_predictions))"
   ]
  },
  {
   "cell_type": "code",
   "execution_count": 53,
   "metadata": {},
   "outputs": [],
   "source": [
    "Linear_svc =SVC(kernel='linear')\n",
    "Linear_svc.fit(X_train_tfidf, y_train)\n",
    "svm_prediction = Linear_svc.predict(X_test_tfidf)"
   ]
  },
  {
   "cell_type": "code",
   "execution_count": 55,
   "metadata": {},
   "outputs": [
    {
     "name": "stdout",
     "output_type": "stream",
     "text": [
      "AUC:  0.7627717519806712\n"
     ]
    }
   ],
   "source": [
    "print('AUC: ',roc_auc_score(y_test,svm_prediction))"
   ]
  },
  {
   "cell_type": "code",
   "execution_count": 56,
   "metadata": {},
   "outputs": [],
   "source": [
    "rfc_model = RandomForestClassifier(n_estimators = 100)"
   ]
  },
  {
   "cell_type": "code",
   "execution_count": 58,
   "metadata": {},
   "outputs": [
    {
     "data": {
      "text/plain": [
       "RandomForestClassifier(bootstrap=True, ccp_alpha=0.0, class_weight=None,\n",
       "                       criterion='gini', max_depth=None, max_features='auto',\n",
       "                       max_leaf_nodes=None, max_samples=None,\n",
       "                       min_impurity_decrease=0.0, min_impurity_split=None,\n",
       "                       min_samples_leaf=1, min_samples_split=2,\n",
       "                       min_weight_fraction_leaf=0.0, n_estimators=100,\n",
       "                       n_jobs=None, oob_score=False, random_state=None,\n",
       "                       verbose=0, warm_start=False)"
      ]
     },
     "execution_count": 58,
     "metadata": {},
     "output_type": "execute_result"
    }
   ],
   "source": [
    "rfc_model.fit(X_train_tfidf,y_train)"
   ]
  },
  {
   "cell_type": "code",
   "execution_count": 59,
   "metadata": {},
   "outputs": [],
   "source": [
    "rfc_predictions = rfc_model.predict(X_test_tfidf)"
   ]
  },
  {
   "cell_type": "code",
   "execution_count": 60,
   "metadata": {},
   "outputs": [
    {
     "name": "stdout",
     "output_type": "stream",
     "text": [
      "AUC:  0.7574532505014897\n"
     ]
    }
   ],
   "source": [
    "print('AUC: ',roc_auc_score(y_test,rfc_predictions))"
   ]
  },
  {
   "cell_type": "code",
   "execution_count": null,
   "metadata": {},
   "outputs": [],
   "source": []
  }
 ],
 "metadata": {
  "kernelspec": {
   "display_name": "Python 3",
   "language": "python",
   "name": "python3"
  },
  "language_info": {
   "codemirror_mode": {
    "name": "ipython",
    "version": 3
   },
   "file_extension": ".py",
   "mimetype": "text/x-python",
   "name": "python",
   "nbconvert_exporter": "python",
   "pygments_lexer": "ipython3",
   "version": "3.7.6"
  }
 },
 "nbformat": 4,
 "nbformat_minor": 4
}
